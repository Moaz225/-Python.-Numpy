{
  "cells": [
    {
      "cell_type": "markdown",
      "metadata": {
        "id": "M-DGa20PaHnu"
      },
      "source": [
        "#Задача 1\n",
        "Написать функцию на вход которой подается строка, состоящая из латинских букв.\n",
        "Функция должна вернуть количество гласных букв (a, e, i, o, u) в этой строке. Написать тесты для кода"
      ]
    },
    {
      "cell_type": "code",
      "execution_count": 1,
      "metadata": {
        "id": "XvX8X_JJ6PCb"
      },
      "outputs": [
        {
          "name": "stdout",
          "output_type": "stream",
          "text": [
            "All tests passed ✅\n"
          ]
        }
      ],
      "source": [
        "def count_vowels(s):\n",
        "    vowels = {'a', 'e', 'i', 'o', 'u'}\n",
        "    return sum(1 for char in s.lower() if char in vowels)\n",
        "\n",
        "# Tests\n",
        "def test_count_vowels():\n",
        "    assert count_vowels(\"Hello World\") == 3\n",
        "    assert count_vowels(\"Python\") == 1\n",
        "    assert count_vowels(\"AEIOU\") == 5\n",
        "    print(\"All tests passed ✅\")\n",
        "\n",
        "test_count_vowels()"
      ]
    },
    {
      "cell_type": "markdown",
      "metadata": {
        "id": "t2ClV_Y0bbr6"
      },
      "source": [
        "# Задача 2\n",
        "Написать функцию на вход, которой подается строка. Функция должна вернуть true, если\n",
        "каждый символ в строке встречается только 1 раз, иначе должна вернуть false. Написать тесты для кода"
      ]
    },
    {
      "cell_type": "code",
      "execution_count": 2,
      "metadata": {
        "id": "FppbECao6VIz"
      },
      "outputs": [
        {
          "name": "stdout",
          "output_type": "stream",
          "text": [
            "All tests passed ✅\n"
          ]
        }
      ],
      "source": [
        "def is_unique(s):\n",
        "    return len(set(s)) == len(s)\n",
        "\n",
        "# Tests\n",
        "def test_is_unique():\n",
        "    assert is_unique(\"abcde\") == True\n",
        "    assert is_unique(\"hello\") == False\n",
        "    assert is_unique(\"12345\") == True\n",
        "    print(\"All tests passed ✅\")\n",
        "\n",
        "test_is_unique()"
      ]
    },
    {
      "cell_type": "markdown",
      "metadata": {
        "id": "udRiIK1cdt6E"
      },
      "source": [
        "# Задача 3\n",
        "Написать функцию, которая принимает положительное число и возвращает количество\n",
        "бит равных 1 в этом числе. Написать тесты для кода"
      ]
    },
    {
      "cell_type": "code",
      "execution_count": 3,
      "metadata": {
        "id": "6tkfDJRz6dp_"
      },
      "outputs": [
        {
          "name": "stdout",
          "output_type": "stream",
          "text": [
            "All tests passed ✅\n"
          ]
        }
      ],
      "source": [
        "def count_bits(n):\n",
        "    return bin(n).count('1')\n",
        "\n",
        "# Tests\n",
        "def test_count_bits():\n",
        "    assert count_bits(7) == 3  # 7 = 111\n",
        "    assert count_bits(8) == 1  # 8 = 1000\n",
        "    print(\"All tests passed ✅\")\n",
        "\n",
        "test_count_bits()"
      ]
    },
    {
      "cell_type": "markdown",
      "metadata": {
        "id": "26dDUz-Ae17N"
      },
      "source": [
        "# Задача 4\n",
        "Написать функцию, которая принимает положительное число. Функция должна вернуть то,\n",
        "сколько раз необходимо перемножать цифры числа или результат перемножения, чтобы\n",
        "получилось число состоящее из одной цифры.\n",
        "Например, для входного числа:\n",
        "· 39 функция должна вернуть 3, так как 3*9=27 => 2*7=14 => 1*4=4\n",
        "· 4 функция должна вернуть 0, так как число уже состоит из одной цифры\n",
        "· 999 функция должна вернуть 4, так как 9*9*9=729 => 7*2*9=126 => 1*2*6=12 =>\n",
        "1*2=2. Написать тесты для кода"
      ]
    },
    {
      "cell_type": "code",
      "execution_count": 4,
      "metadata": {
        "id": "BH1A_Mgi6i4G"
      },
      "outputs": [
        {
          "name": "stdout",
          "output_type": "stream",
          "text": [
            "All tests passed ✅\n"
          ]
        }
      ],
      "source": [
        "def magic(n):\n",
        "    count = 0\n",
        "    while n >= 10:\n",
        "        product = 1\n",
        "        for digit in str(n):\n",
        "            product *= int(digit)\n",
        "        n = product\n",
        "        count += 1\n",
        "    return count\n",
        "\n",
        "# Tests\n",
        "def test_magic():\n",
        "    assert magic(39) == 3\n",
        "    assert magic(4) == 0\n",
        "    assert magic(999) == 4\n",
        "    print(\"All tests passed ✅\")\n",
        "\n",
        "test_magic()"
      ]
    },
    {
      "cell_type": "markdown",
      "metadata": {
        "id": "0nS-kIa8g8vd"
      },
      "source": [
        "# Задача 5\n",
        "Написать функцию, которая принимает два целочисленных вектора одинаковой длины и\n",
        "возвращает среднеквадратическое отклонение двух векторов. Написать тесты для кода"
      ]
    },
    {
      "cell_type": "code",
      "execution_count": 5,
      "metadata": {
        "id": "8iphx4LM6xbx"
      },
      "outputs": [
        {
          "name": "stdout",
          "output_type": "stream",
          "text": [
            "All tests passed ✅\n"
          ]
        }
      ],
      "source": [
        "def mse(pred, true):\n",
        "    return sum((p - t)**2 for p, t in zip(pred, true)) / len(pred)\n",
        "\n",
        "# Tests\n",
        "def test_mse():\n",
        "    assert mse([1, 2, 3], [1, 2, 3]) == 0.0\n",
        "    assert mse([2, 3], [3, 4]) == 1.0\n",
        "    print(\"All tests passed ✅\")\n",
        "\n",
        "test_mse()"
      ]
    },
    {
      "cell_type": "markdown",
      "metadata": {
        "id": "vpIPKL439zkw"
      },
      "source": [
        "# Задача 6\n",
        "Написать функцию, принимающая целое положительное число. Функция должна вернуть\n",
        "строку вида “(n1**p1)(n2**p2)…(nk**pk)” представляющая разложение числа на простые\n",
        "множители (если pi == 1, то выводить только ni).\n",
        "Например, для числа 86240 функция должна вернуть “(2**5)(5)(7**2)(11)”. Написать тесты для кода"
      ]
    },
    {
      "cell_type": "code",
      "execution_count": 6,
      "metadata": {
        "id": "pFebmcZk94Jw"
      },
      "outputs": [
        {
          "name": "stdout",
          "output_type": "stream",
          "text": [
            "All tests passed ✅\n"
          ]
        }
      ],
      "source": [
        "def prime_factors(n):\n",
        "    factors = {}\n",
        "    i = 2\n",
        "    while i * i <= n:\n",
        "        while n % i == 0:\n",
        "            factors[i] = factors.get(i, 0) + 1\n",
        "            n //= i\n",
        "        i += 1\n",
        "    if n > 1:\n",
        "        factors[n] = 1\n",
        "    result = []\n",
        "    for key in sorted(factors):\n",
        "        if factors[key] == 1:\n",
        "            result.append(f\"({key})\")\n",
        "        else:\n",
        "            result.append(f\"({key}**{factors[key]})\")\n",
        "    return \"\".join(result)\n",
        "\n",
        "# Tests\n",
        "def test_prime_factors():\n",
        "    assert prime_factors(86240) == \"(2**5)(5)(7**2)(11)\"\n",
        "    assert prime_factors(28) == \"(2**2)(7)\"\n",
        "    print(\"All tests passed ✅\")\n",
        "\n",
        "test_prime_factors()"
      ]
    },
    {
      "cell_type": "markdown",
      "metadata": {
        "id": "ps2s0BudX7A2"
      },
      "source": [
        "# Задача 7\n",
        "Написать функцию, принимающая целое число n, задающее количество кубиков. Функция\n",
        "должна определить, можно ли из данного кол-ва кубиков построить пирамиду, то есть\n",
        "можно ли представить число n как 1^2+2^2+3^2+…+k^2. Если можно, то функция должна\n",
        "вернуть k, иначе строку “It is impossible”. Написать тесты для кода"
      ]
    },
    {
      "cell_type": "code",
      "execution_count": 9,
      "metadata": {
        "id": "3YPjEXxhX_YT"
      },
      "outputs": [
        {
          "name": "stdout",
          "output_type": "stream",
          "text": [
            "All tests passed ✅\n"
          ]
        }
      ],
      "source": [
        "def pyramid(number):\n",
        "    total = 0\n",
        "    k = 0\n",
        "    while total < number:\n",
        "        k += 1\n",
        "        total += k**2\n",
        "        if total == number:\n",
        "            return k\n",
        "    return \"It is impossible\"\n",
        "\n",
        "# Tests\n",
        "def test_pyramid():\n",
        "    assert pyramid(5) == 2  # 1² + 2² = 5 → k=2\n",
        "    assert pyramid(14) == 3  # 1² + 2² + 3² = 14 → k=3\n",
        "    print(\"All tests passed ✅\")\n",
        "\n",
        "test_pyramid()"
      ]
    },
    {
      "cell_type": "markdown",
      "metadata": {
        "id": "KeKgmIdAQMEJ"
      },
      "source": [
        "# Задача 8\n",
        "Функция принимает на вход положительное число и определяет является ли оно сбалансированным, т.е. сумма цифр до средних равна сумме цифр после. Средними в случае нечетного числа цифр считать одну цифру, в случае четного - две средних. Написать тесты для кода"
      ]
    },
    {
      "cell_type": "code",
      "execution_count": 8,
      "metadata": {
        "id": "gMAAqtqlQrZt"
      },
      "outputs": [
        {
          "name": "stdout",
          "output_type": "stream",
          "text": [
            "All tests passed ✅\n"
          ]
        }
      ],
      "source": [
        "def is_balanced(n):\n",
        "    s = str(n)\n",
        "    length = len(s)\n",
        "    mid = length // 2\n",
        "    if length % 2 == 0:\n",
        "        left = sum(int(c) for c in s[:mid-1])\n",
        "        right = sum(int(c) for c in s[mid+1:])\n",
        "    else:\n",
        "        left = sum(int(c) for c in s[:mid])\n",
        "        right = sum(int(c) for c in s[mid+1:])\n",
        "    return left == right\n",
        "\n",
        "# Tests\n",
        "def test_is_balanced():\n",
        "    assert is_balanced(123321) == True  # 1+2 = 2+1\n",
        "    assert is_balanced(12345) == False\n",
        "    print(\"All tests passed ✅\")\n",
        "\n",
        "test_is_balanced()"
      ]
    }
  ],
  "metadata": {
    "colab": {
      "provenance": []
    },
    "kernelspec": {
      "display_name": "Python 3",
      "name": "python3"
    },
    "language_info": {
      "codemirror_mode": {
        "name": "ipython",
        "version": 3
      },
      "file_extension": ".py",
      "mimetype": "text/x-python",
      "name": "python",
      "nbconvert_exporter": "python",
      "pygments_lexer": "ipython3",
      "version": "3.11.5"
    }
  },
  "nbformat": 4,
  "nbformat_minor": 0
}
